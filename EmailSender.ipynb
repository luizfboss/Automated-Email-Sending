{
 "cells": [
  {
   "cell_type": "code",
   "execution_count": null,
   "id": "10a65193",
   "metadata": {},
   "outputs": [],
   "source": [
    "import pyautogui\n",
    "import pyperclip\n",
    "from time import sleep\n",
    "\n",
    "# Automatic Email sender on Gmail.\n",
    "\n",
    "# Send the e-mail\n",
    "link = \"https://mail.google.com/mail/u/0/#inbox\" # Saves the Gmail link as a variable\n",
    "\n",
    "pyautogui.hotkey('ctrl', 't') # New tab\n",
    "pyperclip.copy(link) # Copy the link above\n",
    "pyautogui.hotkey('ctrl', 'v') # Paste the link above \n",
    "pyautogui.press('enter') # Enter\n",
    "\n",
    "# Click on the Write button\n",
    "sleep(3) # 3s Delay\n",
    "pyautogui.click(x=78, y=171) # Find your coordinates (code to find at the end of the code)\n",
    "\n",
    "# Write to whom you are sending the email\n",
    "sleep(2)\n",
    "pyautogui.write(\"email\") # insert the email address you are sending to \n",
    "pyautogui.press('tab') # Choose the Email\n",
    "pyautogui.press('tab') # Go to the Subject Field\n",
    "\n",
    "# Email's subject\n",
    "subject = \"subject\" # insert the subject you are sending to \n",
    "pyperclip.copy(subject)\n",
    "pyautogui.hotkey('ctrl', 'v') # Paste the text (subject)\n",
    "pyautogui.press('tab') # Go to the Email field\n",
    "\n",
    "# Write the Email text\n",
    "sleep(1) # 1-Second delay\n",
    "text = f\"\"\"\n",
    "    Enter text here\n",
    "\"\"\" # Yes, you can use docstrings instead of simple quotation. I recommend due to the line breaking.\n",
    "pyautogui.write(text) # Write the text\n",
    "\n",
    "# Send the email\n",
    "pyautogui.hotkey('ctrl', 'enter')\n",
    "# This is the code to get your mouse's coordinates. \n",
    "# The 5-second delay is to help you to have enough time to set the cursor on the screen.\n",
    "# You can change for more or less time\n",
    "sleep(5)\n",
    "pyautogui.position() # This returns a coordinate (x-axis and y-axis). \n",
    "# Insert the coordinate in the pyautogui.click() code above. "
   ]
  },
  {
   "cell_type": "code",
   "execution_count": null,
   "id": "86057d42",
   "metadata": {},
   "outputs": [],
   "source": [
    "\n",
    "sleep(5)\n",
    "pyautogui.position()"
   ]
  }
 ],
 "metadata": {
  "kernelspec": {
   "display_name": "Python 3",
   "language": "python",
   "name": "python3"
  },
  "language_info": {
   "codemirror_mode": {
    "name": "ipython",
    "version": 3
   },
   "file_extension": ".py",
   "mimetype": "text/x-python",
   "name": "python",
   "nbconvert_exporter": "python",
   "pygments_lexer": "ipython3",
   "version": "3.8.8"
  }
 },
 "nbformat": 4,
 "nbformat_minor": 5
}
